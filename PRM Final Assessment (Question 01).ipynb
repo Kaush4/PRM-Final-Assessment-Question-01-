{
 "cells": [
  {
   "cell_type": "code",
   "execution_count": 2,
   "id": "a93dad8f",
   "metadata": {},
   "outputs": [],
   "source": [
    "# Python - Question 01\n",
    "# You will be given a list. You have to print a list whose 1st element should be largest \n",
    "# and 2nd should be the smallest then the 3rd should be 2nd largest and 4th should be 2nd smallest and so on.\n",
    "# Input Format:\n",
    "# The first line will have space-separated elements of the list.\n",
    "# Output Format:\n",
    "# Print the required list.\n",
    "# Sample Input 0:\n",
    "# 1 2 3 4 5 6\n",
    "# Sample Output 0:\n",
    "# 6 1 5 2 4 3"
   ]
  },
  {
   "cell_type": "code",
   "execution_count": 50,
   "id": "f0474387",
   "metadata": {},
   "outputs": [
    {
     "name": "stdout",
     "output_type": "stream",
     "text": [
      "Enter elements of list separated by space: 1 2 3 4 5 6\n",
      "6 1 5 2 4 3 "
     ]
    }
   ],
   "source": [
    "given_list= [int(x)for x in input(\"Enter elements of list separated by space: \").split()]\n",
    "if len(given_list)%2 == 0:\n",
    "    max_val= []\n",
    "    for i in range(len(given_list)//2):\n",
    "        max_val.append(max(given_list))\n",
    "        given_list.remove(max(given_list))\n",
    "        given_list= sorted(given_list)\n",
    "    for k,v in zip(max_val,given_list):\n",
    "        print(k,v, end= ' ')\n",
    "else:\n",
    "    print(\"Enter even number of elements\")"
   ]
  },
  {
   "cell_type": "code",
   "execution_count": null,
   "id": "f08aaa4c",
   "metadata": {},
   "outputs": [],
   "source": []
  }
 ],
 "metadata": {
  "kernelspec": {
   "display_name": "Python 3 (ipykernel)",
   "language": "python",
   "name": "python3"
  },
  "language_info": {
   "codemirror_mode": {
    "name": "ipython",
    "version": 3
   },
   "file_extension": ".py",
   "mimetype": "text/x-python",
   "name": "python",
   "nbconvert_exporter": "python",
   "pygments_lexer": "ipython3",
   "version": "3.9.12"
  }
 },
 "nbformat": 4,
 "nbformat_minor": 5
}
